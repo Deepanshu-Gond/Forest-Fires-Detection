{
 "cells": [
  {
   "cell_type": "code",
   "execution_count": 10,
   "id": "46ac4ecd",
   "metadata": {},
   "outputs": [],
   "source": [
    "import tensorflow as tf\n",
    "import numpy as np\n",
    "from tensorflow import keras\n",
    "import os\n",
    "import cv2\n",
    "from tensorflow.keras.preprocessing.image import ImageDataGenerator\n",
    "from tensorflow.keras.preprocessing import image\n",
    "import matplotlib.pyplot as plt\n",
    "import talos\n",
    "%matplotlib inline"
   ]
  },
  {
   "cell_type": "code",
   "execution_count": 12,
   "id": "202820e5",
   "metadata": {},
   "outputs": [
    {
     "name": "stdout",
     "output_type": "stream",
     "text": [
      "Found 1832 images belonging to 2 classes.\n",
      "Found 68 images belonging to 2 classes.\n"
     ]
    }
   ],
   "source": [
    "# load dataset\n",
    "train = ImageDataGenerator(rescale=1/255)\n",
    "test = ImageDataGenerator(rescale=1/255)\n",
    "\n",
    "train_dataset = train.flow_from_directory(\"forest_fire/Training and Validation/\",\n",
    "                                          target_size=(150,150),\n",
    "                                          batch_size = 32,\n",
    "                                          class_mode = 'binary')\n",
    "                                         \n",
    "test_dataset = test.flow_from_directory(\"forest_fire/Testing/\",\n",
    "                                          target_size=(150,150),\n",
    "                                          batch_size =32,\n",
    "                                          class_mode = 'binary')"
   ]
  },
  {
   "cell_type": "code",
   "execution_count": 13,
   "id": "d78c31c9",
   "metadata": {},
   "outputs": [
    {
     "data": {
      "text/plain": [
       "{'fire': 0, 'nofire': 1}"
      ]
     },
     "execution_count": 13,
     "metadata": {},
     "output_type": "execute_result"
    }
   ],
   "source": [
    "test_dataset.class_indices"
   ]
  },
  {
   "cell_type": "markdown",
   "id": "8c326404",
   "metadata": {},
   "source": [
    "# Training & Testing the MLP models"
   ]
  },
  {
   "cell_type": "code",
   "execution_count": 22,
   "id": "3f7b17e1",
   "metadata": {},
   "outputs": [],
   "source": [
    "# Input data and params into the function\n",
    "def MLP_model(train_dataset, test_dataset , x_val, y_val, params):\n",
    "    \n",
    "    from tensorflow.keras.layers import Dense, Dropout, Flatten\n",
    "    from tensorflow.keras.models import Sequential\n",
    "\n",
    "    model = Sequential()\n",
    "    model.add(Dense(params['hidden_units'], input_dim=input_size,\n",
    "                    activation=params['first_activation']))\n",
    "    model.add(Dropout(params['dropout']))\n",
    "    \n",
    "    \n",
    "    ## hidden layers if any\n",
    "    for i in range(params['hidden_layers']):\n",
    "        model.add(Dense(params['hidden_units'], \n",
    "                        activation=params['activation']))\n",
    "        model.add(Dropout(params['dropout']))\n",
    "        \n",
    "\n",
    "    model.add(Dense(num_labels, activation=params['last_activation']))\n",
    "    \n",
    "    model.compile(loss=params['losses'],\n",
    "                  optimizer=params['optimizer'],\n",
    "                  metrics=['accuracy'])\n",
    "    \n",
    "    history = model.fit(train_dataset, \n",
    "                        batch_size=params['batch_size'],\n",
    "                        epochs=params['epochs'],\n",
    "                        callbacks=[talos.callbacks.ExperimentLog('MLP', params)],\n",
    "                        verbose=0)\n",
    "\n",
    "    return history, model"
   ]
  },
  {
   "cell_type": "code",
   "execution_count": 19,
   "id": "3df850e3",
   "metadata": {},
   "outputs": [],
   "source": [
    "# Set the parameter space\n",
    "p = {\n",
    "     'hidden_units':[256, 512],\n",
    "     'hidden_layers':[0, 1, 2],\n",
    "     'batch_size': [128, 256],\n",
    "     'epochs': [10],\n",
    "     'dropout': [0, 0.5],\n",
    "     'optimizer': ['Adam'],\n",
    "     'losses': ['categorical_crossentropy'],\n",
    "     'first_activation': ['relu'],\n",
    "     'activation':['relu', 'sigmoid'],\n",
    "     'last_activation': ['relu','softmax']\n",
    "    }"
   ]
  },
  {
   "cell_type": "code",
   "execution_count": 24,
   "id": "b89f9daa",
   "metadata": {},
   "outputs": [
    {
     "ename": "TypeError",
     "evalue": "__init__() missing 1 required positional argument: 'y'",
     "output_type": "error",
     "traceback": [
      "\u001b[1;31m---------------------------------------------------------------------------\u001b[0m",
      "\u001b[1;31mTypeError\u001b[0m                                 Traceback (most recent call last)",
      "Input \u001b[1;32mIn [24]\u001b[0m, in \u001b[0;36m<cell line: 2>\u001b[1;34m()\u001b[0m\n\u001b[0;32m      1\u001b[0m \u001b[38;5;66;03m# Run the experiment\u001b[39;00m\n\u001b[1;32m----> 2\u001b[0m t \u001b[38;5;241m=\u001b[39m \u001b[43mtalos\u001b[49m\u001b[38;5;241;43m.\u001b[39;49m\u001b[43mScan\u001b[49m\u001b[43m(\u001b[49m\u001b[43mtrain_dataset\u001b[49m\u001b[43m,\u001b[49m\n\u001b[0;32m      3\u001b[0m \u001b[43m               \u001b[49m\u001b[43mmodel\u001b[49m\u001b[38;5;241;43m=\u001b[39;49m\u001b[43mMLP_model\u001b[49m\u001b[43m,\u001b[49m\n\u001b[0;32m      4\u001b[0m \u001b[43m               \u001b[49m\u001b[43mparams\u001b[49m\u001b[38;5;241;43m=\u001b[39;49m\u001b[43mp\u001b[49m\u001b[43m,\u001b[49m\n\u001b[0;32m      5\u001b[0m \u001b[43m               \u001b[49m\u001b[43mexperiment_name\u001b[49m\u001b[38;5;241;43m=\u001b[39;49m\u001b[38;5;124;43m'\u001b[39;49m\u001b[38;5;124;43mMLP\u001b[39;49m\u001b[38;5;124;43m'\u001b[39;49m\u001b[43m,\u001b[49m\n\u001b[0;32m      6\u001b[0m \u001b[43m               \u001b[49m\u001b[43mround_limit\u001b[49m\u001b[38;5;241;43m=\u001b[39;49m\u001b[38;5;241;43m2\u001b[39;49m\u001b[43m)\u001b[49m\n",
      "\u001b[1;31mTypeError\u001b[0m: __init__() missing 1 required positional argument: 'y'"
     ]
    }
   ],
   "source": [
    "# Run the experiment\n",
    "t = talos.Scan(train_dataset,\n",
    "               model=MLP_model,\n",
    "               params=p,\n",
    "               experiment_name='MLP',\n",
    "               round_limit=2)"
   ]
  },
  {
   "cell_type": "code",
   "execution_count": 1,
   "id": "ad7f5cb0",
   "metadata": {},
   "outputs": [
    {
     "ename": "NameError",
     "evalue": "name 'talos' is not defined",
     "output_type": "error",
     "traceback": [
      "\u001b[1;31m---------------------------------------------------------------------------\u001b[0m",
      "\u001b[1;31mNameError\u001b[0m                                 Traceback (most recent call last)",
      "Input \u001b[1;32mIn [1]\u001b[0m, in \u001b[0;36m<cell line: 1>\u001b[1;34m()\u001b[0m\n\u001b[1;32m----> 1\u001b[0m \u001b[43mtalos\u001b[49m\u001b[38;5;241m.\u001b[39mAnalyze(t)\u001b[38;5;241m.\u001b[39mplot_line(\u001b[38;5;124m'\u001b[39m\u001b[38;5;124mval_accuracy\u001b[39m\u001b[38;5;124m'\u001b[39m)\n",
      "\u001b[1;31mNameError\u001b[0m: name 'talos' is not defined"
     ]
    }
   ],
   "source": [
    "talos.Analyze(t).plot_line('val_accuracy') # Plot of accuracies of models"
   ]
  },
  {
   "cell_type": "code",
   "execution_count": 2,
   "id": "a31a7b9e",
   "metadata": {},
   "outputs": [
    {
     "ename": "NameError",
     "evalue": "name 'talos' is not defined",
     "output_type": "error",
     "traceback": [
      "\u001b[1;31m---------------------------------------------------------------------------\u001b[0m",
      "\u001b[1;31mNameError\u001b[0m                                 Traceback (most recent call last)",
      "Input \u001b[1;32mIn [2]\u001b[0m, in \u001b[0;36m<cell line: 1>\u001b[1;34m()\u001b[0m\n\u001b[1;32m----> 1\u001b[0m \u001b[43mtalos\u001b[49m\u001b[38;5;241m.\u001b[39mAnalyze(t)\u001b[38;5;241m.\u001b[39mplot_line(\u001b[38;5;124m'\u001b[39m\u001b[38;5;124mval_loss\u001b[39m\u001b[38;5;124m'\u001b[39m)\n",
      "\u001b[1;31mNameError\u001b[0m: name 'talos' is not defined"
     ]
    }
   ],
   "source": [
    "talos.Analyze(t).plot_line('val_loss') # Plot of losses of models"
   ]
  },
  {
   "cell_type": "code",
   "execution_count": 3,
   "id": "f4cb1d72",
   "metadata": {},
   "outputs": [
    {
     "ename": "NameError",
     "evalue": "name 't' is not defined",
     "output_type": "error",
     "traceback": [
      "\u001b[1;31m---------------------------------------------------------------------------\u001b[0m",
      "\u001b[1;31mNameError\u001b[0m                                 Traceback (most recent call last)",
      "Input \u001b[1;32mIn [3]\u001b[0m, in \u001b[0;36m<cell line: 1>\u001b[1;34m()\u001b[0m\n\u001b[1;32m----> 1\u001b[0m idx \u001b[38;5;241m=\u001b[39m \u001b[43mt\u001b[49m\u001b[38;5;241m.\u001b[39mdata[\u001b[38;5;124m'\u001b[39m\u001b[38;5;124mval_accuracy\u001b[39m\u001b[38;5;124m'\u001b[39m]\u001b[38;5;241m.\u001b[39mastype(\u001b[38;5;124m'\u001b[39m\u001b[38;5;124mfloat\u001b[39m\u001b[38;5;124m'\u001b[39m)\u001b[38;5;241m.\u001b[39margmax()  \u001b[38;5;66;03m# Index of Maximum Accurate MLP\u001b[39;00m\n\u001b[0;32m      2\u001b[0m t\u001b[38;5;241m.\u001b[39mdata\u001b[38;5;241m.\u001b[39mloc[idx]\n",
      "\u001b[1;31mNameError\u001b[0m: name 't' is not defined"
     ]
    }
   ],
   "source": [
    "idx = t.data['val_accuracy'].astype('float').argmax()  # Index of Maximum Accurate MLP\n",
    "t.data.loc[idx] # Hyperparameters of the best MLP"
   ]
  },
  {
   "cell_type": "code",
   "execution_count": 4,
   "id": "14c9cb97",
   "metadata": {},
   "outputs": [
    {
     "ename": "NameError",
     "evalue": "name 'model_from_json' is not defined",
     "output_type": "error",
     "traceback": [
      "\u001b[1;31m---------------------------------------------------------------------------\u001b[0m",
      "\u001b[1;31mNameError\u001b[0m                                 Traceback (most recent call last)",
      "Input \u001b[1;32mIn [4]\u001b[0m, in \u001b[0;36m<cell line: 2>\u001b[1;34m()\u001b[0m\n\u001b[0;32m      1\u001b[0m \u001b[38;5;66;03m# Restoring the best MLP and testing it\u001b[39;00m\n\u001b[1;32m----> 2\u001b[0m model \u001b[38;5;241m=\u001b[39m \u001b[43mmodel_from_json\u001b[49m(t\u001b[38;5;241m.\u001b[39msaved_models[idx])\n\u001b[0;32m      3\u001b[0m model\u001b[38;5;241m.\u001b[39mset_weights(t\u001b[38;5;241m.\u001b[39msaved_weights[idx])\n\u001b[0;32m      4\u001b[0m model\u001b[38;5;241m.\u001b[39mcompile(loss\u001b[38;5;241m=\u001b[39mt\u001b[38;5;241m.\u001b[39mdata\u001b[38;5;241m.\u001b[39mloc[idx,\u001b[38;5;124m'\u001b[39m\u001b[38;5;124mlosses\u001b[39m\u001b[38;5;124m'\u001b[39m],\n\u001b[0;32m      5\u001b[0m               optimizer\u001b[38;5;241m=\u001b[39mt\u001b[38;5;241m.\u001b[39mdata\u001b[38;5;241m.\u001b[39mloc[idx,\u001b[38;5;124m'\u001b[39m\u001b[38;5;124moptimizer\u001b[39m\u001b[38;5;124m'\u001b[39m],\n\u001b[0;32m      6\u001b[0m               metrics\u001b[38;5;241m=\u001b[39m [\u001b[38;5;124m'\u001b[39m\u001b[38;5;124maccuracy\u001b[39m\u001b[38;5;124m'\u001b[39m])\n",
      "\u001b[1;31mNameError\u001b[0m: name 'model_from_json' is not defined"
     ]
    }
   ],
   "source": [
    "# Restoring the best MLP and testing it\n",
    "model = model_from_json(t.saved_models[idx])\n",
    "model.set_weights(t.saved_weights[idx])\n",
    "model.compile(loss=t.data.loc[idx,'losses'],\n",
    "              optimizer=t.data.loc[idx,'optimizer'],\n",
    "              metrics= ['accuracy'])\n",
    "\n",
    "los,acc=model.evaluate(x_test, y_test, verbose=0)\n",
    "print(\"\\nTest Accuracy: %.1f%%\" % (100.0 * acc))\n",
    "print(\"Test Loss: %.1f%%\" % (100.0 * los))"
   ]
  }
 ],
 "metadata": {
  "kernelspec": {
   "display_name": "Python 3 (ipykernel)",
   "language": "python",
   "name": "python3"
  },
  "language_info": {
   "codemirror_mode": {
    "name": "ipython",
    "version": 3
   },
   "file_extension": ".py",
   "mimetype": "text/x-python",
   "name": "python",
   "nbconvert_exporter": "python",
   "pygments_lexer": "ipython3",
   "version": "3.9.13"
  }
 },
 "nbformat": 4,
 "nbformat_minor": 5
}
